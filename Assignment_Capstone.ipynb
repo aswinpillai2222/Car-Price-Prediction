{
 "cells": [
  {
   "cell_type": "code",
   "execution_count": 5,
   "id": "596ae7ed-20f7-4934-aedb-24c8dc0bc033",
   "metadata": {},
   "outputs": [
    {
     "name": "stdout",
     "output_type": "stream",
     "text": [
      "        Brand   Model  Year  Engine_Size Fuel_Type    Transmission  Mileage  \\\n",
      "0         Kia     Rio  2020          4.2    Diesel          Manual   289944   \n",
      "1   Chevrolet  Malibu  2012          2.0    Hybrid       Automatic     5356   \n",
      "2    Mercedes     GLA  2020          4.2    Diesel       Automatic   231440   \n",
      "3        Audi      Q5  2023          2.0  Electric          Manual   160971   \n",
      "4  Volkswagen    Golf  2003          2.6    Hybrid  Semi-Automatic   286618   \n",
      "\n",
      "   Doors  Owner_Count  Price  \n",
      "0      3            5   8501  \n",
      "1      2            3  12092  \n",
      "2      4            2  11171  \n",
      "3      2            1  11780  \n",
      "4      3            3   2867  \n",
      "<class 'pandas.core.frame.DataFrame'>\n",
      "RangeIndex: 10000 entries, 0 to 9999\n",
      "Data columns (total 10 columns):\n",
      " #   Column        Non-Null Count  Dtype  \n",
      "---  ------        --------------  -----  \n",
      " 0   Brand         10000 non-null  object \n",
      " 1   Model         10000 non-null  object \n",
      " 2   Year          10000 non-null  int64  \n",
      " 3   Engine_Size   10000 non-null  float64\n",
      " 4   Fuel_Type     10000 non-null  object \n",
      " 5   Transmission  10000 non-null  object \n",
      " 6   Mileage       10000 non-null  int64  \n",
      " 7   Doors         10000 non-null  int64  \n",
      " 8   Owner_Count   10000 non-null  int64  \n",
      " 9   Price         10000 non-null  int64  \n",
      "dtypes: float64(1), int64(5), object(4)\n",
      "memory usage: 781.4+ KB\n"
     ]
    }
   ],
   "source": [
    "import pandas as pd\n",
    "\n",
    "# Load the dataset\n",
    "df = pd.read_csv(\"car_price_dataset.csv\")\n",
    "\n",
    "# Display the first few rows\n",
    "print(df.head())\n",
    "\n",
    "# Check dataset info\n",
    "df.info()"
   ]
  },
  {
   "cell_type": "markdown",
   "id": "93949489-fc57-46b6-b1f5-62c15179aedc",
   "metadata": {},
   "source": [
    "Handling Missing Values"
   ]
  },
  {
   "cell_type": "code",
   "execution_count": 6,
   "id": "78746540-e2e7-4cfd-8c58-aa865853a652",
   "metadata": {},
   "outputs": [
    {
     "name": "stdout",
     "output_type": "stream",
     "text": [
      "Brand           0\n",
      "Model           0\n",
      "Year            0\n",
      "Engine_Size     0\n",
      "Fuel_Type       0\n",
      "Transmission    0\n",
      "Mileage         0\n",
      "Doors           0\n",
      "Owner_Count     0\n",
      "Price           0\n",
      "dtype: int64\n"
     ]
    }
   ],
   "source": [
    "# Check for missing values\n",
    "print(df.isnull().sum())\n",
    "\n",
    "# Fill or drop missing values (modify as needed)\n",
    "df = df.dropna()  # Drop rows with missing values\n"
   ]
  },
  {
   "cell_type": "markdown",
   "id": "4c728083-0d99-47ef-9d45-0e9b6c9eedd8",
   "metadata": {},
   "source": [
    "Encoding Categorical Variables"
   ]
  },
  {
   "cell_type": "code",
   "execution_count": 9,
   "id": "10c524d7-0d69-46f1-9799-5976de8b4c30",
   "metadata": {},
   "outputs": [
    {
     "name": "stdout",
     "output_type": "stream",
     "text": [
      "Index(['Brand', 'Model', 'Year', 'Engine_Size', 'Fuel_Type', 'Transmission',\n",
      "       'Mileage', 'Doors', 'Owner_Count', 'Price'],\n",
      "      dtype='object')\n"
     ]
    }
   ],
   "source": [
    "print(df.columns)  # Display all column names"
   ]
  },
  {
   "cell_type": "code",
   "execution_count": 12,
   "id": "ccf1cc61-db0f-42c7-8682-58c447182072",
   "metadata": {},
   "outputs": [],
   "source": [
    "from sklearn.preprocessing import LabelEncoder\n",
    "\n",
    "# Example: Encoding categorical columns (modify based on your dataset)\n",
    "categorical_columns = ['Brand', 'Fuel_Type', 'Transmission']  # Replace with actual column names\n",
    "encoder = LabelEncoder()\n",
    "\n",
    "for col in categorical_columns:\n",
    "    df[col] = encoder.fit_transform(df[col])"
   ]
  },
  {
   "cell_type": "code",
   "execution_count": null,
   "id": "4fa2e7b9-3661-4cbe-b546-f9e7cb8d83be",
   "metadata": {},
   "outputs": [],
   "source": []
  },
  {
   "cell_type": "markdown",
   "id": "94d34ae1-dc4e-4496-b039-15de59b7b13d",
   "metadata": {},
   "source": [
    "Split Data for Training"
   ]
  },
  {
   "cell_type": "code",
   "execution_count": 14,
   "id": "7e548fd1-71f2-46cb-9a5c-4cf37d53db07",
   "metadata": {},
   "outputs": [],
   "source": [
    "from sklearn.model_selection import train_test_split\n",
    "\n",
    "# Assuming \"price\" is the target column\n",
    "X = df.drop(columns=['Price'])  # Features\n",
    "y = df['Price']  # Target\n",
    "\n",
    "# Split data into 80% training, 20% testing\n",
    "X_train, X_test, y_train, y_test = train_test_split(X, y, test_size=0.2, random_state=42)"
   ]
  },
  {
   "cell_type": "code",
   "execution_count": null,
   "id": "809bead5-2568-4dee-92da-464f97a1a9dd",
   "metadata": {},
   "outputs": [],
   "source": []
  },
  {
   "cell_type": "markdown",
   "id": "2bebe4df-c5b0-467c-9b33-dcc482c715b5",
   "metadata": {},
   "source": [
    "Training a Machine Learning Model"
   ]
  },
  {
   "cell_type": "code",
   "execution_count": 17,
   "id": "33d9d7fd-c21c-4715-87c1-8d263998d99c",
   "metadata": {},
   "outputs": [
    {
     "name": "stdout",
     "output_type": "stream",
     "text": [
      "   Brand  Year  Engine_Size  Fuel_Type  Transmission  Mileage  Doors  \\\n",
      "0      6  2020          4.2          0             1   289944      3   \n",
      "1      2  2012          2.0          2             0     5356      2   \n",
      "2      7  2020          4.2          0             0   231440      4   \n",
      "3      0  2023          2.0          1             1   160971      2   \n",
      "4      9  2003          2.6          2             2   286618      3   \n",
      "\n",
      "   Owner_Count  Price  Model_3 Series  ...  Model_Optima  Model_Passat  \\\n",
      "0            5   8501             0.0  ...           0.0           0.0   \n",
      "1            3  12092             0.0  ...           0.0           0.0   \n",
      "2            2  11171             0.0  ...           0.0           0.0   \n",
      "3            1  11780             0.0  ...           0.0           0.0   \n",
      "4            3   2867             0.0  ...           0.0           0.0   \n",
      "\n",
      "   Model_Q5  Model_RAV4  Model_Rio  Model_Sonata  Model_Sportage  \\\n",
      "0       0.0         0.0        1.0           0.0             0.0   \n",
      "1       0.0         0.0        0.0           0.0             0.0   \n",
      "2       0.0         0.0        0.0           0.0             0.0   \n",
      "3       1.0         0.0        0.0           0.0             0.0   \n",
      "4       0.0         0.0        0.0           0.0             0.0   \n",
      "\n",
      "   Model_Tiguan  Model_Tucson  Model_X5  \n",
      "0           0.0           0.0       0.0  \n",
      "1           0.0           0.0       0.0  \n",
      "2           0.0           0.0       0.0  \n",
      "3           0.0           0.0       0.0  \n",
      "4           0.0           0.0       0.0  \n",
      "\n",
      "[5 rows x 39 columns]\n"
     ]
    }
   ],
   "source": [
    "from sklearn.preprocessing import OneHotEncoder\n",
    "import pandas as pd\n",
    "\n",
    "# Identify categorical columns\n",
    "categorical_columns = df.select_dtypes(include=['object']).columns.tolist()\n",
    "\n",
    "# Initialize OneHotEncoder (Fix: Use sparse_output instead of sparse)\n",
    "encoder = OneHotEncoder(handle_unknown='ignore', sparse_output=False)\n",
    "\n",
    "# Convert categorical columns to one-hot encoding\n",
    "encoded_features = encoder.fit_transform(df[categorical_columns])\n",
    "\n",
    "# Convert to DataFrame\n",
    "encoded_df = pd.DataFrame(encoded_features, columns=encoder.get_feature_names_out(categorical_columns))\n",
    "\n",
    "# Drop original categorical columns and replace with encoded ones\n",
    "df = df.drop(columns=categorical_columns)\n",
    "df = pd.concat([df, encoded_df], axis=1)\n",
    "\n",
    "print(df.head())  # Verify that all columns are now numeric"
   ]
  },
  {
   "cell_type": "code",
   "execution_count": null,
   "id": "822164ef-886e-4724-b3a5-1f0a5d92a09f",
   "metadata": {},
   "outputs": [],
   "source": []
  },
  {
   "cell_type": "code",
   "execution_count": null,
   "id": "2afcb2dd-ce16-416e-8cc5-61fa337d5608",
   "metadata": {},
   "outputs": [],
   "source": [
    "Saving the Model"
   ]
  },
  {
   "cell_type": "code",
   "execution_count": 18,
   "id": "b201089d-e8dc-45c0-9424-fa6b531e0de8",
   "metadata": {},
   "outputs": [
    {
     "data": {
      "text/plain": [
       "['encoder.pkl']"
      ]
     },
     "execution_count": 18,
     "metadata": {},
     "output_type": "execute_result"
    }
   ],
   "source": [
    "import joblib\n",
    "\n",
    "# Save trained model\n",
    "joblib.dump(model, 'car_price_model.pkl')\n",
    "\n",
    "# Save the label encoder (if used)\n",
    "joblib.dump(encoder, 'encoder.pkl')"
   ]
  },
  {
   "cell_type": "code",
   "execution_count": null,
   "id": "67fc06c5-a954-47bf-acfe-9a194cb1ce40",
   "metadata": {},
   "outputs": [],
   "source": [
    "!python app.py"
   ]
  },
  {
   "cell_type": "code",
   "execution_count": null,
   "id": "89a240cc-1754-47df-a6c7-aa2fcf91ee72",
   "metadata": {},
   "outputs": [],
   "source": []
  }
 ],
 "metadata": {
  "kernelspec": {
   "display_name": "tfkernel",
   "language": "python",
   "name": "tfkernel"
  },
  "language_info": {
   "codemirror_mode": {
    "name": "ipython",
    "version": 3
   },
   "file_extension": ".py",
   "mimetype": "text/x-python",
   "name": "python",
   "nbconvert_exporter": "python",
   "pygments_lexer": "ipython3",
   "version": "3.11.9"
  }
 },
 "nbformat": 4,
 "nbformat_minor": 5
}
